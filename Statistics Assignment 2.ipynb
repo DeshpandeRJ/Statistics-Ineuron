{
 "cells": [
  {
   "cell_type": "markdown",
   "id": "546f41a2",
   "metadata": {},
   "source": [
    "### 1.\tRaindrops are falling at an average rate of 20 drops per square inch per minute. What would be a reasonable distribution to use for the number of raindrops hitting a particular region measuring 5 inches2 in t minutes? Why? Using your chosen distribution, compute the probability that the region has no rain drops in a given 3 second time interval. A reasonable choice of distribution is P"
   ]
  },
  {
   "cell_type": "markdown",
   "id": "7a577f45",
   "metadata": {},
   "source": [
    "It would be reasonable to model “the number of raindrops” hitting in this area in this time frame witha Poisson distribution with rate parameter equal to\n",
    "\n",
    "λ = 100t\n",
    "\n",
    "since we are looking over 5t(squaredinches)×(minutes), and we are told the average rate is 20 drops per square inch per minute. Thisrandom experiment ﬁts the typical Poisson story in that we are counting the number of “successes” over a ﬁxed space/area/time frame that cannot be broken into true Bernoulli trials.\n",
    "\n",
    "now, compute the probability that the region has no rain drops in agiven 3-second time interval.\n",
    "\n",
    "So we have to calculate p(x = 0)\n",
    "\n",
    "Let X be the number of rain drops that fall in this area in this time interval.\n",
    "\n",
    "Since 3 seconds is 1/20 of a minute, then we can modelX\n",
    "\n",
    "as a Pois(λ = 100/20 = 5) r.v. Thus based on the PMF of a Poisson:\n",
    "\n",
    "P (X = 0) = (e^-5 * 5^0)/0!\n",
    "\n",
    "P (X = 0) ≈ 0.0067"
   ]
  },
  {
   "cell_type": "markdown",
   "id": "032fd0f7",
   "metadata": {},
   "source": [
    "### 2.\tLet X be a random day of the week, coded so that Monday is 1, Tuesday is 2, etc. (so X takes values 1, 2,..., 7, with equal probabilities). Let Y be the next day after X (again represented as an integer between 1 and 7). Do X and Y have the same distribution? What is P(X)"
   ]
  },
  {
   "cell_type": "markdown",
   "id": "0dff965a",
   "metadata": {},
   "source": [
    "#### Ans:\n",
    "Yes. Have the same distribution.\n",
    "\n",
    "Step-by-step explanation:\n",
    "\n",
    "Given that X is a random day of the week, coded so that Monday is 1, Tuesday is 2, etc. (so X takes values 1, 2,..., 7, with equal probabilities).\n",
    "\n",
    "Y is the next day after X\n",
    "\n",
    "So Y can be written as X+1\n",
    "\n",
    "But since highest value is 7, we can write\n",
    "\n",
    "Y = X+1 mod 7\n",
    "\n",
    "i.e. whenever X=7, Y= 8= 1 again.\n",
    "\n",
    "Thus Y can take values as\n",
    "\n",
    "Y  1   2   3   4   5   6   7\n",
    "\n",
    "P(Y) = P(X+1) = 1/7\n",
    "\n",
    "i.e. Y also has the same distribution as X\n",
    "\n",
    "and P(X) = 1/7"
   ]
  }
 ],
 "metadata": {
  "kernelspec": {
   "display_name": "Python 3 (ipykernel)",
   "language": "python",
   "name": "python3"
  },
  "language_info": {
   "codemirror_mode": {
    "name": "ipython",
    "version": 3
   },
   "file_extension": ".py",
   "mimetype": "text/x-python",
   "name": "python",
   "nbconvert_exporter": "python",
   "pygments_lexer": "ipython3",
   "version": "3.7.11"
  }
 },
 "nbformat": 4,
 "nbformat_minor": 5
}
